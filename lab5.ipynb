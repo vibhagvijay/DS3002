{
 "cells": [
  {
   "cell_type": "code",
   "execution_count": 8,
   "id": "a4c5e1a0-156d-4a47-9cd5-111a55be3cef",
   "metadata": {},
   "outputs": [],
   "source": [
    "#Vibha Vijay & Sharaf Tariq\n",
    "\n",
    "#import packages\n",
    "import requests\n",
    "from bs4 import BeautifulSoup\n"
   ]
  },
  {
   "cell_type": "code",
   "execution_count": 9,
   "id": "772abc59-555d-4d70-a133-9471ec93b43e",
   "metadata": {},
   "outputs": [],
   "source": [
    "#import packages\n",
    "import pgeocode"
   ]
  },
  {
   "cell_type": "code",
   "execution_count": 10,
   "id": "01a558e8-1b9e-41a2-824b-da207ff8db98",
   "metadata": {},
   "outputs": [
    {
     "name": "stdin",
     "output_type": "stream",
     "text": [
      "What is your zipcode? 22903\n"
     ]
    }
   ],
   "source": [
    "#asking for input\n",
    "zipcode = input(\"What is your zipcode?\")"
   ]
  },
  {
   "cell_type": "code",
   "execution_count": 11,
   "id": "0fa39719-d7b1-4eca-b4d0-9447ffbe77b9",
   "metadata": {},
   "outputs": [
    {
     "name": "stdout",
     "output_type": "stream",
     "text": [
      "lat=38.0339\n",
      "&lon=-78.4924\n"
     ]
    }
   ],
   "source": [
    "#figuring out lat and long based on zipcode\n",
    "nomi = pgeocode.Nominatim('us')\n",
    "query = nomi.query_postal_code(zipcode)\n",
    "lat = \"lat=\" + str(query[\"latitude\"])\n",
    "lon = \"&lon=\" + str(query[\"longitude\"])\n",
    "\n",
    "\n",
    "print(lat)\n",
    "print(lon)"
   ]
  },
  {
   "cell_type": "code",
   "execution_count": 12,
   "id": "9bb03fe1-b6d8-49c8-abd7-a478e48a88d4",
   "metadata": {},
   "outputs": [
    {
     "name": "stdout",
     "output_type": "stream",
     "text": [
      "<div class=\"tombstone-container\">\n",
      " <p class=\"period-name\">\n",
      "  Tonight\n",
      "  <br/>\n",
      "  <br/>\n",
      " </p>\n",
      " <p>\n",
      "  <img alt=\"Tonight: A chance of rain after 1am.  Increasing clouds, with a low around 39. South wind 5 to 8 mph, with gusts as high as 18 mph.  Chance of precipitation is 50%.\" class=\"forecast-icon\" src=\"DualImage.php?i=nbkn&amp;j=nra&amp;jp=50\" title=\"Tonight: A chance of rain after 1am.  Increasing clouds, with a low around 39. South wind 5 to 8 mph, with gusts as high as 18 mph.  Chance of precipitation is 50%.\"/>\n",
      " </p>\n",
      " <p class=\"short-desc\">\n",
      "  Mostly Cloudy\n",
      "  <br/>\n",
      "  then Chance\n",
      "  <br/>\n",
      "  Rain\n",
      " </p>\n",
      " <p class=\"temp temp-low\">\n",
      "  Low: 39 °F\n",
      " </p>\n",
      "</div>\n"
     ]
    }
   ],
   "source": [
    "#using BeautifulSoup to pull from forecast page \n",
    "page = requests.get(\"https://forecast.weather.gov/MapClick.php?\"+ lat + lon)\n",
    "soup = BeautifulSoup(page.content, 'html.parser')\n",
    "seven_day = soup.find(id=\"seven-day-forecast\")\n",
    "forecast_items = seven_day.find_all(class_=\"tombstone-container\")\n",
    "tonight = forecast_items[0]\n",
    "print(tonight.prettify())"
   ]
  },
  {
   "cell_type": "code",
   "execution_count": 14,
   "id": "ea98b837-5962-4514-9a26-574bf1b89d4c",
   "metadata": {},
   "outputs": [
    {
     "name": "stdout",
     "output_type": "stream",
     "text": [
      "['Mostly Cloudythen ChanceRain', 'Rain', 'Partly Cloudy', 'Mostly Sunny', 'Mostly Clear', 'Mostly Sunny', 'Chance Rain', 'Chance Rain', 'Chance Rain']\n",
      "['Low: 39 °F', 'High: 62 °F', 'Low: 32 °F', 'High: 48 °F', 'Low: 28 °F', 'High: 52 °F', 'Low: 37 °F', 'High: 54 °F', 'Low: 45 °F']\n",
      "['Tonight: A chance of rain after 1am.  Increasing clouds, with a low around 39. South wind 5 to 8 mph, with gusts as high as 18 mph.  Chance of precipitation is 50%.', 'Saturday: Rain, mainly before 1pm.  High near 62. Southwest wind 11 to 14 mph, with gusts as high as 26 mph.  Chance of precipitation is 80%. New precipitation amounts of less than a tenth of an inch possible. ', 'Saturday Night: Partly cloudy, with a low around 32. West wind 5 to 7 mph becoming calm  after midnight. ', 'Sunday: Mostly sunny, with a high near 48. Calm wind becoming south around 6 mph in the afternoon. ', 'Sunday Night: Mostly clear, with a low around 28. Light and variable wind. ', 'Monday: Mostly sunny, with a high near 52.', 'Monday Night: A chance of rain.  Mostly cloudy, with a low around 37. Chance of precipitation is 40%.', 'Tuesday: A chance of rain.  Mostly cloudy, with a high near 54. Chance of precipitation is 50%.', 'Tuesday Night: A chance of rain.  Mostly cloudy, with a low around 45. Chance of precipitation is 30%.']\n"
     ]
    }
   ],
   "source": [
    "#pulling data for seven day forecast from specific HTML containers on weather site\n",
    "period_tags = seven_day.select(\".tombstone-container .period-name\")\n",
    "periods = [pt.get_text() for pt in period_tags]\n",
    "periods\n",
    "\n",
    "short_descs = [sd.get_text() for sd in seven_day.select(\".tombstone-container .short-desc\")]\n",
    "temps = [t.get_text() for t in seven_day.select(\".tombstone-container .temp\")]\n",
    "descs = [d[\"title\"] for d in seven_day.select(\".tombstone-container img\")]\n",
    "print(short_descs)\n",
    "print(temps)\n",
    "print(descs)"
   ]
  },
  {
   "cell_type": "code",
   "execution_count": 15,
   "id": "d884416d-f1a3-450f-8063-b205debc91d3",
   "metadata": {},
   "outputs": [
    {
     "data": {
      "text/html": [
       "<div>\n",
       "<style scoped>\n",
       "    .dataframe tbody tr th:only-of-type {\n",
       "        vertical-align: middle;\n",
       "    }\n",
       "\n",
       "    .dataframe tbody tr th {\n",
       "        vertical-align: top;\n",
       "    }\n",
       "\n",
       "    .dataframe thead th {\n",
       "        text-align: right;\n",
       "    }\n",
       "</style>\n",
       "<table border=\"1\" class=\"dataframe\">\n",
       "  <thead>\n",
       "    <tr style=\"text-align: right;\">\n",
       "      <th></th>\n",
       "      <th>period</th>\n",
       "      <th>short_desc</th>\n",
       "      <th>temp</th>\n",
       "      <th>desc</th>\n",
       "    </tr>\n",
       "  </thead>\n",
       "  <tbody>\n",
       "    <tr>\n",
       "      <th>0</th>\n",
       "      <td>Tonight</td>\n",
       "      <td>Mostly Cloudythen ChanceRain</td>\n",
       "      <td>Low: 39 °F</td>\n",
       "      <td>Tonight: A chance of rain after 1am.  Increasi...</td>\n",
       "    </tr>\n",
       "    <tr>\n",
       "      <th>1</th>\n",
       "      <td>Saturday</td>\n",
       "      <td>Rain</td>\n",
       "      <td>High: 62 °F</td>\n",
       "      <td>Saturday: Rain, mainly before 1pm.  High near ...</td>\n",
       "    </tr>\n",
       "    <tr>\n",
       "      <th>2</th>\n",
       "      <td>SaturdayNight</td>\n",
       "      <td>Partly Cloudy</td>\n",
       "      <td>Low: 32 °F</td>\n",
       "      <td>Saturday Night: Partly cloudy, with a low arou...</td>\n",
       "    </tr>\n",
       "    <tr>\n",
       "      <th>3</th>\n",
       "      <td>Sunday</td>\n",
       "      <td>Mostly Sunny</td>\n",
       "      <td>High: 48 °F</td>\n",
       "      <td>Sunday: Mostly sunny, with a high near 48. Cal...</td>\n",
       "    </tr>\n",
       "    <tr>\n",
       "      <th>4</th>\n",
       "      <td>SundayNight</td>\n",
       "      <td>Mostly Clear</td>\n",
       "      <td>Low: 28 °F</td>\n",
       "      <td>Sunday Night: Mostly clear, with a low around ...</td>\n",
       "    </tr>\n",
       "    <tr>\n",
       "      <th>5</th>\n",
       "      <td>Monday</td>\n",
       "      <td>Mostly Sunny</td>\n",
       "      <td>High: 52 °F</td>\n",
       "      <td>Monday: Mostly sunny, with a high near 52.</td>\n",
       "    </tr>\n",
       "    <tr>\n",
       "      <th>6</th>\n",
       "      <td>MondayNight</td>\n",
       "      <td>Chance Rain</td>\n",
       "      <td>Low: 37 °F</td>\n",
       "      <td>Monday Night: A chance of rain.  Mostly cloudy...</td>\n",
       "    </tr>\n",
       "    <tr>\n",
       "      <th>7</th>\n",
       "      <td>Tuesday</td>\n",
       "      <td>Chance Rain</td>\n",
       "      <td>High: 54 °F</td>\n",
       "      <td>Tuesday: A chance of rain.  Mostly cloudy, wit...</td>\n",
       "    </tr>\n",
       "    <tr>\n",
       "      <th>8</th>\n",
       "      <td>TuesdayNight</td>\n",
       "      <td>Chance Rain</td>\n",
       "      <td>Low: 45 °F</td>\n",
       "      <td>Tuesday Night: A chance of rain.  Mostly cloud...</td>\n",
       "    </tr>\n",
       "  </tbody>\n",
       "</table>\n",
       "</div>"
      ],
      "text/plain": [
       "          period                    short_desc         temp  \\\n",
       "0        Tonight  Mostly Cloudythen ChanceRain   Low: 39 °F   \n",
       "1       Saturday                          Rain  High: 62 °F   \n",
       "2  SaturdayNight                 Partly Cloudy   Low: 32 °F   \n",
       "3         Sunday                  Mostly Sunny  High: 48 °F   \n",
       "4    SundayNight                  Mostly Clear   Low: 28 °F   \n",
       "5         Monday                  Mostly Sunny  High: 52 °F   \n",
       "6    MondayNight                   Chance Rain   Low: 37 °F   \n",
       "7        Tuesday                   Chance Rain  High: 54 °F   \n",
       "8   TuesdayNight                   Chance Rain   Low: 45 °F   \n",
       "\n",
       "                                                desc  \n",
       "0  Tonight: A chance of rain after 1am.  Increasi...  \n",
       "1  Saturday: Rain, mainly before 1pm.  High near ...  \n",
       "2  Saturday Night: Partly cloudy, with a low arou...  \n",
       "3  Sunday: Mostly sunny, with a high near 48. Cal...  \n",
       "4  Sunday Night: Mostly clear, with a low around ...  \n",
       "5         Monday: Mostly sunny, with a high near 52.  \n",
       "6  Monday Night: A chance of rain.  Mostly cloudy...  \n",
       "7  Tuesday: A chance of rain.  Mostly cloudy, wit...  \n",
       "8  Tuesday Night: A chance of rain.  Mostly cloud...  "
      ]
     },
     "execution_count": 15,
     "metadata": {},
     "output_type": "execute_result"
    }
   ],
   "source": [
    "#creating 7 day forecast dataframe\n",
    "import pandas as pd\n",
    "weather = pd.DataFrame({\n",
    "    \"period\": periods,\n",
    "    \"short_desc\": short_descs,\n",
    "    \"temp\": temps,\n",
    "    \"desc\":descs\n",
    "})\n",
    "weather"
   ]
  },
  {
   "cell_type": "code",
   "execution_count": 16,
   "id": "929ff82b-9b1a-4481-ae74-d5a762785ee3",
   "metadata": {},
   "outputs": [
    {
     "name": "stdout",
     "output_type": "stream",
     "text": [
      "<td class=\"text-right\">\n",
      " <b>\n",
      "  Humidity\n",
      " </b>\n",
      "</td>\n",
      "\n"
     ]
    }
   ],
   "source": [
    "#pulling current conditions from HTML container on weather site \n",
    "extra_day = soup.find(id=\"current_conditions_detail\")\n",
    "extra_items = extra_day.find_all(class_=\"text-right\")\n",
    "extra_tonight = extra_items[0]\n",
    "print(extra_tonight.prettify())\n"
   ]
  },
  {
   "cell_type": "code",
   "execution_count": 17,
   "id": "48c772fa-bb54-4ebd-8e87-e4dc25f3fe60",
   "metadata": {},
   "outputs": [
    {
     "name": "stdout",
     "output_type": "stream",
     "text": [
      "Humidity:36%\n",
      "Wind Speed:S 7 mph\n",
      "Dewpoint:23°F (-5°C)\n",
      "Wind Chill:46°F (8°C)\n",
      "  Humidity Wind_Speed     Dewpoint  Wind_Chill\n",
      "0      38%     S 7mph  22°F (-6°C)  42°F (6°C)\n"
     ]
    }
   ],
   "source": [
    "#consolidating current condition data \n",
    "hum = (soup.find_all('b')[4].get_text())+ \":\" + soup.find_all('td')[1].get_text()\n",
    "wind = soup.find_all('b')[5].get_text()+ \":\" + soup.find_all('td')[3].get_text()\n",
    "dew = soup.find_all('b')[7].get_text()+ \":\" + soup.find_all('td')[7].get_text()\n",
    "last = soup.find_all('b')[9].get_text()+ \":\" + soup.find_all('td')[11].get_text()\n",
    "\n",
    "print(hum)\n",
    "print(wind)\n",
    "print(dew)\n",
    "print(last)\n",
    "\n",
    "# importing pandas as pd\n",
    "import pandas as pd\n",
    " \n",
    "# import the StrinIO function\n",
    "# from io module\n",
    "from io import StringIO\n",
    " \n",
    "# wrap the string data in StringIO function\n",
    "StringData = StringIO(\"\"\"Humidity;Wind_Speed;Dewpoint;Wind_Chill\n",
    "    38%;S 7mph;22°F (-6°C);42°F (6°C)\n",
    "     \"\"\")\n",
    " \n",
    "# let's read the data using the Pandas\n",
    "# read_csv() function\n",
    "current = pd.read_csv(StringData, sep =\";\")\n",
    " \n",
    "# Print the dataframe\n",
    "print(current)\n"
   ]
  },
  {
   "cell_type": "code",
   "execution_count": 18,
   "id": "927da262-23af-4591-bf07-e0ceca4bad98",
   "metadata": {},
   "outputs": [],
   "source": [
    "#importing packages for MongoDB\n",
    "import pandas as pd\n",
    "import pymongo\n",
    "from pymongo import MongoClient"
   ]
  },
  {
   "cell_type": "code",
   "execution_count": 19,
   "id": "a9e40496-a3df-407d-a5c0-67e4d64808c4",
   "metadata": {},
   "outputs": [],
   "source": [
    "# Making a Connection with MongoClient\n",
    "client = MongoClient(\"mongodb://localhost:27017/\")\n",
    "# database\n",
    "db = client[\"admin\"]\n",
    "# collection\n",
    "lab05= db[\"Lab05\"]"
   ]
  },
  {
   "cell_type": "code",
   "execution_count": 20,
   "id": "e6510024-0df1-4456-a466-7a9cad246315",
   "metadata": {},
   "outputs": [
    {
     "data": {
      "text/plain": [
       "<pymongo.results.InsertOneResult at 0x7f8773848540>"
      ]
     },
     "execution_count": 20,
     "metadata": {},
     "output_type": "execute_result"
    }
   ],
   "source": [
    "#Dumping weather into Mongo\n",
    "weather.reset_index(inplace=True)\n",
    "data_dict = weather.to_dict(\"records\")\n",
    "lab05.insert_one({\"index\":\"Weather\",\"weather\":data_dict})"
   ]
  },
  {
   "cell_type": "code",
   "execution_count": 21,
   "id": "a5f607f7-37d0-4dae-bb6a-5105c0ae30c5",
   "metadata": {},
   "outputs": [
    {
     "data": {
      "text/plain": [
       "<pymongo.results.InsertOneResult at 0x7f8773832500>"
      ]
     },
     "execution_count": 21,
     "metadata": {},
     "output_type": "execute_result"
    }
   ],
   "source": [
    "#Dumping current conditions into Mongo\n",
    "current.reset_index(inplace=True)\n",
    "data_dict = current.to_dict(\"records\")\n",
    "lab05.insert_one({\"index\":\"Current Conditions\",\"current\":data_dict})"
   ]
  },
  {
   "cell_type": "code",
   "execution_count": null,
   "id": "50d9bcb9-4b53-4be4-98da-d53e3dad28f7",
   "metadata": {},
   "outputs": [],
   "source": []
  }
 ],
 "metadata": {
  "kernelspec": {
   "display_name": "Python 3 (ipykernel)",
   "language": "python",
   "name": "python3"
  },
  "language_info": {
   "codemirror_mode": {
    "name": "ipython",
    "version": 3
   },
   "file_extension": ".py",
   "mimetype": "text/x-python",
   "name": "python",
   "nbconvert_exporter": "python",
   "pygments_lexer": "ipython3",
   "version": "3.9.12"
  }
 },
 "nbformat": 4,
 "nbformat_minor": 5
}
